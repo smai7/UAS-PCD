{
  "nbformat": 4,
  "nbformat_minor": 0,
  "metadata": {
    "colab": {
      "provenance": [],
      "include_colab_link": true
    },
    "kernelspec": {
      "name": "python3",
      "display_name": "Python 3"
    },
    "language_info": {
      "name": "python"
    }
  },
  "cells": [
    {
      "cell_type": "markdown",
      "metadata": {
        "id": "view-in-github",
        "colab_type": "text"
      },
      "source": [
        "<a href=\"https://colab.research.google.com/github/smai7/UAS-PCD/blob/main/UAS_PCD.ipynb\" target=\"_parent\"><img src=\"https://colab.research.google.com/assets/colab-badge.svg\" alt=\"Open In Colab\"/></a>"
      ]
    },
    {
      "cell_type": "code",
      "source": [
        "from google.colab import drive\n",
        "import os\n",
        "\n",
        "drive.mount('/content/drive')"
      ],
      "metadata": {
        "id": "kX_A_lwtgh_P"
      },
      "execution_count": null,
      "outputs": []
    },
    {
      "cell_type": "markdown",
      "source": [
        "Menyiapkan Direktori"
      ],
      "metadata": {
        "id": "hssfFvmZF44B"
      }
    },
    {
      "cell_type": "code",
      "source": [
        "base_dir = '/content/drive/MyDrive/Dataset Kaki'\n",
        "!ls \"/content/drive/MyDrive/Dataset Kaki\""
      ],
      "metadata": {
        "id": "0ql5uFf3GLcQ"
      },
      "execution_count": null,
      "outputs": []
    },
    {
      "cell_type": "markdown",
      "source": [
        "PreProcessing Data 1"
      ],
      "metadata": {
        "id": "78UdNrErvxDk"
      }
    },
    {
      "cell_type": "code",
      "source": [
        "import cv2\n",
        "import numpy as np\n",
        "import matplotlib.pyplot as plt\n",
        "\n",
        "# Ganti dengan path ke gambar Anda di Google Drive\n",
        "image_path = '/content/drive/My Drive/Dataset Kaki/Bahan PreProcess/21-1.jpg'\n",
        "# Ganti dengan path folder tujuan di Google Drive untuk menyimpan hasil\n",
        "output_folder = '/content/drive/My Drive/Dataset Kaki/Hasil PreProcess/'\n",
        "\n",
        "# Membaca gambar\n",
        "image = cv2.imread(image_path)\n",
        "\n",
        "# 1. Konversi gambar ke HSV\n",
        "hsv_image = cv2.cvtColor(image, cv2.COLOR_BGR2HSV)\n",
        "\n",
        "# 2. Gaussian Blur\n",
        "blurred_image = cv2.GaussianBlur(hsv_image, (5, 5), 0)\n",
        "\n",
        "# 4. Konversi gambar ke grayscale\n",
        "gray_image = cv2.cvtColor(image, cv2.COLOR_BGR2GRAY)\n",
        "\n",
        "# 3. Thresholding\n",
        "# Konversi ke grayscale terlebih dahulu untuk thresholding\n",
        "gray_image = cv2.cvtColor(image, cv2.COLOR_BGR2GRAY)\n",
        "_, thresholded_image = cv2.threshold(gray_image, 109, 255, cv2.THRESH_BINARY)\n",
        "\n",
        "# 5. Edge Detection menggunakan Canny\n",
        "#edges = cv2.Canny(gray_image, 100, 200)\n",
        "\n",
        "# 5. Edge Detection menggunakan Sobel\n",
        "# Sobel Edge Detection\n",
        "sobelx = cv2.Sobel(thresholded_image, cv2.CV_64F, 1, 0, ksize=5) # Sobel Edge Detection on the X axis\n",
        "sobely = cv2.Sobel(thresholded_image, cv2.CV_64F, 0, 1, ksize=5) # Sobel Edge Detection on the Y axis\n",
        "sobel_combined = cv2.sqrt(cv2.add(cv2.pow(sobelx, 2), cv2.pow(sobely, 2)))\n",
        "\n",
        "# Konversi hasil Sobel kembali ke tipe uint8\n",
        "sobel_combined = cv2.convertScaleAbs(sobel_combined)\n",
        "\n",
        "# Menyimpan hasil preprocessing ke Google Drive\n",
        "#cv2.imwrite(output_folder + '1_hsv_image.jpg', cv2.cvtColor(hsv_image, cv2.COLOR_HSV2BGR))\n",
        "#cv2.imwrite(output_folder + '1_blurred_image.jpg', cv2.cvtColor(blurred_image, cv2.COLOR_HSV2BGR))\n",
        "cv2.imwrite(output_folder + '21_thresholded_image.jpg', thresholded_image)\n",
        "cv2.imwrite(output_folder + '21_gray_image.jpg', gray_image)\n",
        "cv2.imwrite(output_folder + '21_sobel_combined.jpg', sobel_combined)\n",
        "\n",
        "# Menampilkan hasil\n",
        "plt.figure(figsize=(15, 10))\n",
        "\n",
        "# Gambar asli\n",
        "plt.subplot(2, 3, 1)\n",
        "plt.title('Gambar Asli')\n",
        "plt.imshow(cv2.cvtColor(image, cv2.COLOR_BGR2RGB))\n",
        "plt.axis('off')\n",
        "\n",
        "# Gambar HSV\n",
        "plt.subplot(2, 3, 2)\n",
        "plt.title('Gambar HSV')\n",
        "plt.imshow(cv2.cvtColor(hsv_image, cv2.COLOR_HSV2RGB))\n",
        "plt.axis('off')\n",
        "\n",
        "# Gambar Gaussian Blur\n",
        "plt.subplot(2, 3, 3)\n",
        "plt.title('Gambar Gaussian Blur')\n",
        "plt.imshow(cv2.cvtColor(blurred_image, cv2.COLOR_HSV2RGB))\n",
        "plt.axis('off')\n",
        "\n",
        "# Gambar Grayscale\n",
        "plt.subplot(2, 3, 4)\n",
        "plt.title('Gambar Grayscale')\n",
        "plt.imshow(gray_image, cmap='gray')\n",
        "plt.axis('off')\n",
        "\n",
        "# Gambar Thresholding\n",
        "plt.subplot(2, 3, 5)\n",
        "plt.title('Gambar Thresholding')\n",
        "plt.imshow(thresholded_image, cmap='gray')\n",
        "plt.axis('off')\n",
        "\n",
        "# Gambar Edge Detection (Sobel)\n",
        "plt.subplot(2, 3, 6)\n",
        "plt.title('Gambar Edge Detection (Sobel)')\n",
        "plt.imshow(sobel_combined, cmap='gray')\n",
        "plt.axis('off')\n",
        "\n",
        "plt.show()\n"
      ],
      "metadata": {
        "id": "SJzkuq2r1iM1"
      },
      "execution_count": null,
      "outputs": []
    },
    {
      "cell_type": "markdown",
      "source": [
        "Machine Learning euy"
      ],
      "metadata": {
        "id": "Ip3SXoSg42jM"
      }
    },
    {
      "cell_type": "code",
      "source": [
        "#Menentukan direktori ML\n",
        "bahan_dir = os.path.join(base_dir,'Bahan')\n",
        "train_dir = os.path.join(base_dir,'Test')\n",
        "validation_dir = os.path.join(base_dir, 'Validasi')"
      ],
      "metadata": {
        "id": "iwVpQoDPA6qL"
      },
      "execution_count": null,
      "outputs": []
    },
    {
      "cell_type": "code",
      "source": [
        "#menentukan isi direktori\n",
        "arch_dir = os.path.join(bahan_dir,'Arch/')\n",
        "flat_dir = os.path.join(bahan_dir,'Flat/')\n",
        "\n",
        "\n",
        "print(\"Jumlah data tiap class\")\n",
        "print('Jumlah gambar telapak Arch :', len(os.listdir(arch_dir)))\n",
        "print('Jumlah gambar telapak Flat :', len(os.listdir(flat_dir)))\n"
      ],
      "metadata": {
        "id": "6RcpxBje2FMN"
      },
      "execution_count": null,
      "outputs": []
    },
    {
      "cell_type": "code",
      "source": [
        "#Direktori isi test/training\n",
        "train_arch = os.path.join(train_dir,'Arch/')\n",
        "train_flat = os.path.join(train_dir,'Flat/')\n",
        "\n",
        "\n",
        "#Direktori validasi\n",
        "validation_arch = os.path.join(validation_dir,'Arch/')\n",
        "validation_flat = os.path.join(validation_dir,'Flat/')\n"
      ],
      "metadata": {
        "id": "uKO4_V524k34"
      },
      "execution_count": null,
      "outputs": []
    },
    {
      "cell_type": "markdown",
      "source": [
        "PRE PROCESSING & MENYIAPKAN DATASET"
      ],
      "metadata": {
        "id": "s2aMFJznEoaI"
      }
    },
    {
      "cell_type": "code",
      "source": [
        "import random\n",
        "from shutil import copyfile\n",
        "\n",
        "def train_val_split(source, train, val, train_ratio):\n",
        "  total_size = len(os.listdir(source))\n",
        "  train_size = int(train_ratio * total_size)\n",
        "  val_size = total_size - train_size\n",
        "\n",
        "  randomized = random.sample(os.listdir(source), total_size)\n",
        "  train_files=randomized[0:train_size]\n",
        "  val_files = randomized[train_size:total_size]\n",
        "\n",
        "  for i in train_files:\n",
        "    i_file = source + i\n",
        "    destination = train + i\n",
        "    copyfile(i_file, destination)\n",
        "\n",
        "  for i in val_files:\n",
        "    i_file = source + i\n",
        "    destination = val + i\n",
        "    copyfile(i_file, destination)\n",
        "\n",
        "#jumlah pembagian data training dan testing\n",
        "train_ratio = 0.9\n",
        "\n",
        "#pembagian training dan validasi\n",
        "#training\n",
        "source_00 = arch_dir\n",
        "train_00 = train_arch\n",
        "val_00 = validation_arch\n",
        "train_val_split(source_00, train_00, val_00, train_ratio)\n",
        "\n",
        "#validasi\n",
        "source_01 = flat_dir\n",
        "train_01 = train_flat\n",
        "val_01 = validation_flat\n",
        "train_val_split(source_01, train_01, val_01, train_ratio)\n"
      ],
      "metadata": {
        "id": "3KVUFZF433zg"
      },
      "execution_count": null,
      "outputs": []
    },
    {
      "cell_type": "code",
      "source": [
        "print('jumlah arch :', len(os.listdir(arch_dir)))\n",
        "print('jumlah train arch :', len(os.listdir(train_arch)))\n",
        "print('jumlah val arch :', len(os.listdir(validation_arch)))"
      ],
      "metadata": {
        "id": "V1bmkekcmNtJ"
      },
      "execution_count": null,
      "outputs": []
    },
    {
      "cell_type": "code",
      "source": [
        "import tensorflow as tf\n",
        "from tensorflow.keras.optimizers import Adam\n",
        "from tensorflow.keras.preprocessing.image import ImageDataGenerator"
      ],
      "metadata": {
        "id": "70JQXN_-ErqY"
      },
      "execution_count": null,
      "outputs": []
    },
    {
      "cell_type": "code",
      "source": [
        "train_datagen = ImageDataGenerator(\n",
        "                  rescale =1./255,\n",
        "                  rotation_range = 30,\n",
        "                  horizontal_flip = True,\n",
        "                  shear_range = 0.3,\n",
        "                  fill_mode = 'nearest',\n",
        "                  width_shift_range = 0.2,\n",
        "                  height_shift_range = 0.2,\n",
        "                  zoom_range = 0.1\n",
        "                  )\n",
        "\n",
        "val_datagen = ImageDataGenerator(\n",
        "                  rescale =1./255,\n",
        "                  rotation_range = 30,\n",
        "                  horizontal_flip = True,\n",
        "                  shear_range = 0.3,\n",
        "                  fill_mode = 'nearest',\n",
        "                  width_shift_range = 0.2,\n",
        "                  height_shift_range = 0.2,\n",
        "                  zoom_range = 0.1\n",
        "                  )"
      ],
      "metadata": {
        "id": "wEF5nb1WFEJo"
      },
      "execution_count": null,
      "outputs": []
    },
    {
      "cell_type": "markdown",
      "source": [
        "TARGET"
      ],
      "metadata": {
        "id": "jnnpiXayGj_g"
      }
    },
    {
      "cell_type": "code",
      "source": [
        "train_generator = train_datagen.flow_from_directory(\n",
        "    train_dir,\n",
        "    target_size = (666, 256),\n",
        "    batch_size = 10,\n",
        "    class_mode = 'categorical'\n",
        ")\n",
        "\n",
        "val_generator = val_datagen.flow_from_directory(\n",
        "    validation_dir,\n",
        "    target_size = (666, 256),\n",
        "    batch_size = 10,\n",
        "    class_mode = 'categorical'\n",
        ")"
      ],
      "metadata": {
        "id": "S3H_pSK3Gm1v"
      },
      "execution_count": null,
      "outputs": []
    },
    {
      "cell_type": "code",
      "source": [
        "class myCallback(tf.keras.callbacks.Callback):\n",
        "  def on_epoch_end(self, epoch, logs = {}):\n",
        "    if(logs.get('accuracy') > 0.99):\n",
        "      print('\\nAkurasi mencapai 99%')\n",
        "      self.model.stop_training = True\n",
        "\n",
        "callbacks = myCallback()"
      ],
      "metadata": {
        "id": "fGVimqQaMRcq"
      },
      "execution_count": null,
      "outputs": []
    },
    {
      "cell_type": "markdown",
      "source": [
        "MODEL CNN"
      ],
      "metadata": {
        "id": "WZmUmEjyaerZ"
      }
    },
    {
      "cell_type": "code",
      "source": [
        "model = tf.keras.models.Sequential([\n",
        "    tf.keras.layers.Conv2D(16, (3, 3), activation = 'relu', input_shape=(666, 256, 3)),\n",
        "    tf.keras.layers.MaxPooling2D(2, 2),\n",
        "    tf.keras.layers.Conv2D(32, (3, 3), activation = 'relu'),\n",
        "    tf.keras.layers.MaxPooling2D(2, 2),\n",
        "    tf.keras.layers.Conv2D(64, (3, 3), activation = 'relu'),\n",
        "    tf.keras.layers.MaxPooling2D(2, 2),\n",
        "    tf.keras.layers.Flatten(),\n",
        "    tf.keras.layers.Dense(200, activation = 'relu'),\n",
        "    tf.keras.layers.Dropout(0.3, seed=112),\n",
        "    tf.keras.layers.Dense(500, activation = 'relu'),\n",
        "    tf.keras.layers.Dropout(0.5, seed=112),\n",
        "    tf.keras.layers.Dense(2, activation ='sigmoid')\n",
        "])\n"
      ],
      "metadata": {
        "id": "R7rAwoTxOps1"
      },
      "execution_count": null,
      "outputs": []
    },
    {
      "cell_type": "code",
      "source": [
        "model.summary()"
      ],
      "metadata": {
        "id": "UzmTJhnFOpif"
      },
      "execution_count": null,
      "outputs": []
    },
    {
      "cell_type": "code",
      "source": [
        "model.compile(loss = 'categorical_crossentropy',\n",
        "              optimizer = 'Adam',\n",
        "              metrics = ['accuracy'])"
      ],
      "metadata": {
        "id": "Tdy8cl5tOy8i"
      },
      "execution_count": null,
      "outputs": []
    },
    {
      "cell_type": "code",
      "source": [
        "history = model.fit(\n",
        "    train_generator,\n",
        "    steps_per_epoch = 2,\n",
        "    epochs = 15,\n",
        "    validation_data = val_generator,\n",
        "    validation_steps =1,\n",
        "    verbose = 1,\n",
        "    callbacks = [callbacks]\n",
        ")"
      ],
      "metadata": {
        "id": "wGOCsceDPLuf"
      },
      "execution_count": null,
      "outputs": []
    },
    {
      "cell_type": "code",
      "source": [
        "%matplotlib inline\n",
        "\n",
        "import matplotlib.image as mpimg\n",
        "import matplotlib.pyplot as plt\n",
        "\n",
        "acc = history.history['accuracy']\n",
        "val_acc = history.history['val_accuracy']\n",
        "loss = history.history['loss']\n",
        "val_loss = history.history['val_loss']\n",
        "\n",
        "epochs = range(len(acc))\n",
        "\n",
        "plt.plot(epochs, acc, 'r', label = 'Training Accuracy')\n",
        "plt.plot(epochs, val_acc, 'b', label = 'Validation Accuracy')\n",
        "plt.title('Training and Validation Accuuracy')\n",
        "plt.legend(loc = 'best')\n",
        "plt.show()"
      ],
      "metadata": {
        "id": "qSdXelndP1Jv"
      },
      "execution_count": null,
      "outputs": []
    },
    {
      "cell_type": "markdown",
      "source": [
        "Mencoba Klasifikasi"
      ],
      "metadata": {
        "id": "4hiQhVtKqKhY"
      }
    },
    {
      "cell_type": "code",
      "source": [
        "import numpy as np\n",
        "from keras.preprocessing import image\n",
        "from google.colab import files\n",
        "\n",
        "uploaded = files.upload()\n",
        "\n",
        "for fn in uploaded.keys():\n",
        "\n",
        "  #predicting images\n",
        "  path = fn\n",
        "  img = image.load_img(path, target_size = (666, 256))\n",
        "  imgplot = plt.imshow(img)\n",
        "  x = image.img_to_array(img)\n",
        "  x = np.expand_dims(x, axis = 0)\n",
        "  x = x / 255.0\n",
        "\n",
        "  images = np.vstack([x])\n",
        "  classes = model.predict(images, batch_size = 100)\n",
        "\n",
        "  print(fn)\n",
        "\n",
        "  class_list = os.listdir(train_dir)\n",
        "\n",
        "  # print(len(classes[0]))\n",
        "  for j in range(len(classes[0])):\n",
        "    # print(j)\n",
        "    if classes[0][j] >= 0.3:\n",
        "      print('Gambar ini termasuk ke', class_list[j])\n",
        "    #else :\n",
        "    #  print('Gambar ini termasuk ke', class_list[j])\n",
        "    break\n"
      ],
      "metadata": {
        "id": "x9Ik-y8uonkS"
      },
      "execution_count": null,
      "outputs": []
    }
  ]
}